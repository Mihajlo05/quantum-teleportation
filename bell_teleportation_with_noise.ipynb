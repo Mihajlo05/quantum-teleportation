{
 "metadata": {
  "language_info": {
   "codemirror_mode": {
    "name": "ipython",
    "version": 3
   },
   "file_extension": ".py",
   "mimetype": "text/x-python",
   "name": "python",
   "nbconvert_exporter": "python",
   "pygments_lexer": "ipython3",
   "version": "3.9.5"
  },
  "orig_nbformat": 4,
  "kernelspec": {
   "name": "python3",
   "display_name": "Python 3.9.5 64-bit ('qutip-env': conda)"
  },
  "interpreter": {
   "hash": "a21f6d7fe85f2625a05b5c8fec88b426275646550984c8c545eb1120caea6119"
  }
 },
 "nbformat": 4,
 "nbformat_minor": 2,
 "cells": [
  {
   "cell_type": "code",
   "execution_count": 35,
   "metadata": {},
   "outputs": [],
   "source": [
    "%matplotlib inline\n",
    "import qutip as qt\n",
    "import matplotlib.pyplot as plt\n",
    "import math\n",
    "import numpy as np\n",
    "\n",
    "# korisne varijable\n",
    "ket0 = qt.ket([0])\n",
    "ket1 = qt.ket([1])\n",
    "ket00 = qt.tensor(ket0, ket0)\n",
    "ket11 = qt.tensor(ket1, ket1)\n",
    "ket01 = qt.tensor(ket0, ket1)\n",
    "ket10 = qt.tensor(ket1, ket0)\n",
    "########################################################################\n",
    "\n",
    "\n",
    "a_in_values = np.linspace(0, 1, 100)\n",
    "ro_in_values = []\n",
    "ro_out_values = []\n",
    "\n",
    "########################################################################\n",
    "for a_in in a_in_values:\n",
    "    # b faktor za racunanje alisinog stanja (a je u deklaraciji petlje)\n",
    "    b_in = math.sqrt(1 - a_in**2)\n",
    "    #pocetno stanje\n",
    "    psi_in = a_in * ket0 + b_in * ket1\n",
    "    ro_in = psi_in * psi_in.dag()\n",
    "    ro_in_values.append(ro_in)\n",
    "\n",
    "    #varijabla pomocu koje se odredjuje stanje u kome se nalazi kvantni kanal (ch = channel)\n",
    "    #u kvantni kanal se nalaze dva uvezana qubita, jedan kod alis, a drugi kod boba,\n",
    "    #i preko njega se teleportuje alisino stanje (_in)\n",
    "    theta_ch = math.pi / 4\n",
    "\n",
    "    psi_ch = math.sin(theta_ch) * ket00 + math.cos(theta_ch) * ket11 #kvantno stanje kanala\n",
    "    ro_ch = psi_ch * psi_ch.dag() #matrica gustine kanala\n",
    "\n",
    "    ####matrica gustine koja opisuje celokupno kvantno stanje pocetnog stanja i kvantnog kanala\n",
    "    ro = qt.tensor(ro_in, ro_ch)\n",
    "\n",
    "    ##baze po kojima se mere pocetno stanje i jedan qubit iz kvantnog kanala##########\n",
    "    phi_proj = theta_ch\n",
    "    sinphi = math.sin(phi_proj)\n",
    "    cosphi = math.cos(phi_proj)\n",
    "\n",
    "    b1 = cosphi * ket00 + sinphi * ket11\n",
    "    b2 = sinphi * ket00 - cosphi * ket11\n",
    "    b3 = cosphi * ket01 + sinphi * ket10\n",
    "    b4 = sinphi * ket01 - cosphi * ket10\n",
    "    #################################################################################\n",
    "\n",
    "    ###matrice projektivnog merenja (na osnovu baza merenja izracunata u prethodnoj sekciji)\n",
    "    p1 = (b1 * b1.dag())\n",
    "    p2 = (b2 * b2.dag())\n",
    "    p3 = (b3 * b3.dag())\n",
    "    p4 = (b4 * b4.dag())\n",
    "\n",
    "    identity = qt.identity(2)\n",
    "\n",
    "    # kako se ove matrice primenjuju na matricu gustine celokupnog kvantnog stanja, potrebno je da se\n",
    "    # matrice projekcije pomnoze tenzorski sa identitetom kako bi se poklapale dimenzije (a zbog identiteta, treci qubit\n",
    "    # ostaje nepromenjen primenjivanjem ovih matrica)\n",
    "    p1 = qt.tensor(p1, identity)\n",
    "    p2 = qt.tensor(p2, identity)\n",
    "    p3 = qt.tensor(p3, identity)\n",
    "    p4 = qt.tensor(p4, identity)\n",
    "    ##############################################################################################################\n",
    "\n",
    "    ###matrice korekcije koje primalac qubita primenjuje kako bi dobio isto kvantno stanje kao pocetno##\n",
    "    u1 = qt.identity(2)\n",
    "    u2 = qt.sigmaz()\n",
    "    u3 = qt.sigmax()\n",
    "    u4 = qt.sigmaz() * qt.sigmax()\n",
    "    #####################################################################################################\n",
    "\n",
    "    ro_out = u1 * (p1 * ro * p1).ptrace(2) * u1.dag()\n",
    "    ro_out += u2 * (p2 * ro * p2).ptrace(2) * u2.dag()\n",
    "    ro_out += u3 * (p3 * ro * p3).ptrace(2) * u3.dag()"
   ]
  },
  {
   "cell_type": "code",
   "execution_count": 45,
   "metadata": {},
   "outputs": [
    {
     "output_type": "execute_result",
     "data": {
      "text/plain": [
       "Quantum object: dims = [[2], [2]], shape = (2, 2), type = oper, isherm = True\n",
       "Qobj data =\n",
       "[[0.43107846 0.49522704]\n",
       " [0.49522704 0.56892154]]"
      ],
      "text/latex": "Quantum object: dims = [[2], [2]], shape = (2, 2), type = oper, isherm = True\\begin{equation*}\\left(\\begin{array}{*{11}c}0.431 & 0.495\\\\0.495 & 0.569\\\\\\end{array}\\right)\\end{equation*}"
     },
     "metadata": {},
     "execution_count": 45
    }
   ],
   "source": [
    "ro_in_values[65]"
   ]
  },
  {
   "cell_type": "code",
   "execution_count": 44,
   "metadata": {},
   "outputs": [
    {
     "output_type": "execute_result",
     "data": {
      "text/plain": [
       "Quantum object: dims = [[2], [2]], shape = (2, 2), type = oper, isherm = True\n",
       "Qobj data =\n",
       "[[0.43107846 0.49522704]\n",
       " [0.49522704 0.56892154]]"
      ],
      "text/latex": "Quantum object: dims = [[2], [2]], shape = (2, 2), type = oper, isherm = True\\begin{equation*}\\left(\\begin{array}{*{11}c}0.431 & 0.495\\\\0.495 & 0.569\\\\\\end{array}\\right)\\end{equation*}"
     },
     "metadata": {},
     "execution_count": 44
    }
   ],
   "source": [
    "ro_out_values[65]"
   ]
  },
  {
   "cell_type": "code",
   "execution_count": null,
   "metadata": {},
   "outputs": [],
   "source": []
  }
 ]
}