{
 "metadata": {
  "language_info": {
   "codemirror_mode": {
    "name": "ipython",
    "version": 3
   },
   "file_extension": ".py",
   "mimetype": "text/x-python",
   "name": "python",
   "nbconvert_exporter": "python",
   "pygments_lexer": "ipython3",
   "version": "3.9.5"
  },
  "orig_nbformat": 4,
  "kernelspec": {
   "name": "python3",
   "display_name": "Python 3.9.5 64-bit ('qutip-env': conda)"
  },
  "interpreter": {
   "hash": "a21f6d7fe85f2625a05b5c8fec88b426275646550984c8c545eb1120caea6119"
  }
 },
 "nbformat": 4,
 "nbformat_minor": 2,
 "cells": [
  {
   "cell_type": "code",
   "execution_count": 1,
   "metadata": {},
   "outputs": [],
   "source": [
    "%matplotlib inline\n",
    "import qutip as qt\n",
    "import matplotlib.pyplot as plt\n",
    "import math\n",
    "\n",
    "ket0 = qt.ket([0])\n",
    "ket1 = qt.ket([1])\n",
    "ket00 = qt.tensor(ket0, ket0)\n",
    "ket11 = qt.tensor(ket1, ket1)\n",
    "ket01 = qt.tensor(ket0, ket1)\n",
    "ket10 = qt.tensor(ket1, ket0)"
   ]
  },
  {
   "cell_type": "code",
   "execution_count": 2,
   "metadata": {},
   "outputs": [
    {
     "output_type": "execute_result",
     "data": {
      "text/plain": [
       "Quantum object: dims = [[2], [2]], shape = (2, 2), type = oper, isherm = True\n",
       "Qobj data =\n",
       "[[0.5 0.5]\n",
       " [0.5 0.5]]"
      ],
      "text/latex": "Quantum object: dims = [[2], [2]], shape = (2, 2), type = oper, isherm = True\\begin{equation*}\\left(\\begin{array}{*{11}c}0.500 & 0.500\\\\0.500 & 0.500\\\\\\end{array}\\right)\\end{equation*}"
     },
     "metadata": {},
     "execution_count": 2
    }
   ],
   "source": [
    "a_in = 1 / math.sqrt(2)\n",
    "b_in = 1 / math.sqrt(2)\n",
    "\n",
    "psi_in = a_in * ket0 + b_in * ket1\n",
    "ro_in = psi_in * psi_in.dag()\n",
    "ro_in"
   ]
  },
  {
   "cell_type": "code",
   "execution_count": 3,
   "metadata": {},
   "outputs": [
    {
     "output_type": "execute_result",
     "data": {
      "text/plain": [
       "Quantum object: dims = [[2, 2], [2, 2]], shape = (4, 4), type = oper, isherm = True\n",
       "Qobj data =\n",
       "[[0.5 0.  0.  0.5]\n",
       " [0.  0.  0.  0. ]\n",
       " [0.  0.  0.  0. ]\n",
       " [0.5 0.  0.  0.5]]"
      ],
      "text/latex": "Quantum object: dims = [[2, 2], [2, 2]], shape = (4, 4), type = oper, isherm = True\\begin{equation*}\\left(\\begin{array}{*{11}c}0.500 & 0.0 & 0.0 & 0.500\\\\0.0 & 0.0 & 0.0 & 0.0\\\\0.0 & 0.0 & 0.0 & 0.0\\\\0.500 & 0.0 & 0.0 & 0.500\\\\\\end{array}\\right)\\end{equation*}"
     },
     "metadata": {},
     "execution_count": 3
    }
   ],
   "source": [
    "theta_ch = math.pi / 4\n",
    "\n",
    "psi_ch = math.sin(theta_ch) * ket00 + math.cos(theta_ch) * ket11\n",
    "ro_ch = psi_ch * psi_ch.dag()\n",
    "ro_ch"
   ]
  },
  {
   "cell_type": "code",
   "execution_count": 4,
   "metadata": {},
   "outputs": [
    {
     "output_type": "execute_result",
     "data": {
      "text/plain": [
       "Quantum object: dims = [[2, 2, 2], [2, 2, 2]], shape = (8, 8), type = oper, isherm = True\n",
       "Qobj data =\n",
       "[[0.25 0.   0.   0.25 0.25 0.   0.   0.25]\n",
       " [0.   0.   0.   0.   0.   0.   0.   0.  ]\n",
       " [0.   0.   0.   0.   0.   0.   0.   0.  ]\n",
       " [0.25 0.   0.   0.25 0.25 0.   0.   0.25]\n",
       " [0.25 0.   0.   0.25 0.25 0.   0.   0.25]\n",
       " [0.   0.   0.   0.   0.   0.   0.   0.  ]\n",
       " [0.   0.   0.   0.   0.   0.   0.   0.  ]\n",
       " [0.25 0.   0.   0.25 0.25 0.   0.   0.25]]"
      ],
      "text/latex": "Quantum object: dims = [[2, 2, 2], [2, 2, 2]], shape = (8, 8), type = oper, isherm = True\\begin{equation*}\\left(\\begin{array}{*{11}c}0.250 & 0.0 & 0.0 & 0.250 & 0.250 & 0.0 & 0.0 & 0.250\\\\0.0 & 0.0 & 0.0 & 0.0 & 0.0 & 0.0 & 0.0 & 0.0\\\\0.0 & 0.0 & 0.0 & 0.0 & 0.0 & 0.0 & 0.0 & 0.0\\\\0.250 & 0.0 & 0.0 & 0.250 & 0.250 & 0.0 & 0.0 & 0.250\\\\0.250 & 0.0 & 0.0 & 0.250 & 0.250 & 0.0 & 0.0 & 0.250\\\\0.0 & 0.0 & 0.0 & 0.0 & 0.0 & 0.0 & 0.0 & 0.0\\\\0.0 & 0.0 & 0.0 & 0.0 & 0.0 & 0.0 & 0.0 & 0.0\\\\0.250 & 0.0 & 0.0 & 0.250 & 0.250 & 0.0 & 0.0 & 0.250\\\\\\end{array}\\right)\\end{equation*}"
     },
     "metadata": {},
     "execution_count": 4
    }
   ],
   "source": [
    "ro = qt.tensor(ro_in, ro_ch)\n",
    "ro"
   ]
  },
  {
   "cell_type": "code",
   "execution_count": 5,
   "metadata": {},
   "outputs": [],
   "source": [
    "phi_proj = theta_ch\n",
    "sinphi = math.sin(phi_proj)\n",
    "cosphi = math.cos(phi_proj)\n",
    "\n",
    "b1 = cosphi * ket00 + sinphi * ket11\n",
    "b2 = sinphi * ket00 - cosphi * ket11\n",
    "b3 = cosphi * ket01 + sinphi * ket10\n",
    "b4 = sinphi * ket01 - cosphi * ket10"
   ]
  },
  {
   "cell_type": "code",
   "execution_count": 6,
   "metadata": {},
   "outputs": [],
   "source": [
    "p1 = (b1 * b1.dag())\n",
    "p2 = (b2 * b2.dag())\n",
    "p3 = (b3 * b3.dag())\n",
    "p4 = (b4 * b4.dag())\n",
    "\n",
    "identity = qt.identity(2)\n",
    "\n",
    "p1 = qt.tensor(p1, identity)\n",
    "p2 = qt.tensor(p2, identity)\n",
    "p3 = qt.tensor(p3, identity)\n",
    "p4 = qt.tensor(p4, identity)"
   ]
  },
  {
   "cell_type": "code",
   "execution_count": 7,
   "metadata": {},
   "outputs": [],
   "source": [
    "u1 = qt.identity(2)\n",
    "u2 = qt.sigmaz()\n",
    "u3 = qt.sigmax()\n",
    "u4 = qt.sigmaz() * qt.sigmax()"
   ]
  },
  {
   "cell_type": "code",
   "execution_count": 18,
   "metadata": {},
   "outputs": [
    {
     "output_type": "execute_result",
     "data": {
      "text/plain": [
       "Quantum object: dims = [[2], [2]], shape = (2, 2), type = oper, isherm = True\n",
       "Qobj data =\n",
       "[[0.5 0.5]\n",
       " [0.5 0.5]]"
      ],
      "text/latex": "Quantum object: dims = [[2], [2]], shape = (2, 2), type = oper, isherm = True\\begin{equation*}\\left(\\begin{array}{*{11}c}0.500 & 0.500\\\\0.500 & 0.500\\\\\\end{array}\\right)\\end{equation*}"
     },
     "metadata": {},
     "execution_count": 18
    }
   ],
   "source": [
    "ro_bob = u1 * (p1 * ro * p1).ptrace(2) * u1.dag()\n",
    "ro_bob = u2 * (p2 * ro * p2).ptrace(2) * u2.dag()\n",
    "ro_bob = u3 * (p3 * ro * p3).ptrace(2) * u3.dag()\n",
    "ro_bob = u4 * (p4 * ro * p4).ptrace(2) * u4.dag()\n",
    "ro_bob = ro_bob / (p4 * ro).tr()"
   ]
  },
  {
   "cell_type": "code",
   "execution_count": null,
   "metadata": {},
   "outputs": [],
   "source": []
  },
  {
   "cell_type": "code",
   "execution_count": null,
   "metadata": {},
   "outputs": [],
   "source": []
  }
 ]
}